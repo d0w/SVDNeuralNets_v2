{
 "cells": [
  {
   "cell_type": "code",
   "execution_count": 2,
   "metadata": {},
   "outputs": [],
   "source": [
    "import numpy as np\n",
    "import seaborn as sb\n",
    "import matplotlib.pyplot as plt\n",
    "from sklearn.datasets import make_classification\n",
    "from PIL import Image\n",
    "\n",
    "import pandas as pd\n",
    "\n",
    "from sklearn.metrics import mean_squared_error\n",
    "from sklearn.metrics import mean_absolute_error\n",
    "\n",
    "from sklearn.datasets import make_regression\n",
    "from skorch import NeuralNetRegressor"
   ]
  },
  {
   "cell_type": "code",
   "execution_count": 3,
   "metadata": {},
   "outputs": [],
   "source": [
    "# original matrix X \n",
    "# X = random 10k x 10k (do smalelr if they dont work)\n",
    "# 1k x 1k -> 5k x 5k\n",
    "\n",
    "# generate num for number of rows and col based off of 20%(10-90 by 10) of the original # of r and c\n",
    "    # Set amt, or based off of an arbitrary num, A, where num of rows/cols = A+(# of significant singular values)\n",
    "# loop through rows/cols at indexes and place them into R and C arrays\n",
    "   # data[[5,10,11],:]\n",
    "    #   data[:,[5,10,11]]\n",
    "   # row_idxs = np.random.choice(mat.shape[0], n, replace=replace)\n",
    "# U, S, V are SVD of X matrix\n",
    "# SVD of rows (Ur,Sr,Vr)\n",
    "# SVD of cols (Uc, Sc, Vc)\n",
    "\n",
    "# Multiply (Uc/Ur, S, Vr/Vc) depending on dimensions (cols of first = rows of second)\n",
    "    # How to determine dimensions  (v of the rows, u of the cols)\n",
    "\n",
    "# Repeat with S from model, compare\n",
    "\n",
    "# repeat with high res image"
   ]
  },
  {
   "cell_type": "code",
   "execution_count": 4,
   "metadata": {},
   "outputs": [],
   "source": [
    "def sample_mat(mat, n, replace=False, return_idxs=False):\n",
    "    \"\"\"Sample `n` random rows from mat.\n",
    "    Returns an array of the rows sampled from the matrix.\n",
    "    Arguments:\n",
    "        mat {np.array} -- A matrix to sample rows from.\n",
    "        n {int} -- The number of rows to sample.\n",
    "    Keyword Arguments:\n",
    "        replace {bool} -- Whether or not to sample with replacement. (default: {False})\n",
    "        return_idxs {bool} -- Whether or not to return the indexes of the selected rows. (default: {False})\n",
    "    Returns:\n",
    "        np.array|tuple -- Returns a matrix containing the sampled rows, or if `return_idxs` is set,\n",
    "            returns a tuple containing the indexes of the selected rows and the sampled matrix.\n",
    "    \"\"\"\n",
    "    col_idxs = np.random.choice(mat.shape[0], n, replace=replace)\n",
    "    sampled = mat[:, col_idxs]\n",
    "    if return_idxs:\n",
    "        return (col_idxs, sampled)\n",
    "    return sampled\n",
    "\n",
    "def sample_mat_row(mat, n, replace=False, return_idxs=False):\n",
    "    \"\"\"Sample `n` random rows from mat.\n",
    "    Returns an array of the rows sampled from the matrix.\n",
    "    Arguments:\n",
    "        mat {np.array} -- A matrix to sample rows from.\n",
    "        n {int} -- The number of rows to sample.\n",
    "    Keyword Arguments:\n",
    "        replace {bool} -- Whether or not to sample with replacement. (default: {False})\n",
    "        return_idxs {bool} -- Whether or not to return the indexes of the selected rows. (default: {False})\n",
    "    Returns:\n",
    "        np.array|tuple -- Returns a matrix containing the sampled rows, or if `return_idxs` is set,\n",
    "            returns a tuple containing the indexes of the selected rows and the sampled matrix.\n",
    "    \"\"\"\n",
    "    col_idxs = np.random.choice(mat.shape[0], n, replace=replace)\n",
    "    sampled = mat[col_idxs, :]\n",
    "    if return_idxs:\n",
    "        return (col_idxs, sampled)\n",
    "    return sampled    "
   ]
  },
  {
   "cell_type": "code",
   "execution_count": null,
   "metadata": {},
   "outputs": [],
   "source": [
    "# SVD -\n",
    "# Ours - Uc @ predicted sigma @ Vr (theyre going to be just the regular U and V for smaller matrices)\n",
    "# Poormans Uc @ (sampled sigma) @ (Vr)\n",
    "\n",
    "# reconstruction error | X - Xr |\n",
    "# plot with X as percent sampled from U and V\n",
    "# plot another with x as percent of sigma sampled (0 everything after a certain percent)"
   ]
  },
  {
   "cell_type": "code",
   "execution_count": 5,
   "metadata": {},
   "outputs": [
    {
     "name": "stdout",
     "output_type": "stream",
     "text": [
      "MSE for 1000x1000: 200.78850284400153\n",
      "MAE for 1000x1000: 10.816112773306244\n",
      "-----------------------------------------------\n",
      "MSE for 2000x2000: 199.97543585024485\n",
      "MAE for 2000x2000: 10.769446652944769\n",
      "-----------------------------------------------\n",
      "MSE for 3000x3000: 200.22380183764966\n",
      "MAE for 3000x3000: 10.76552274952095\n",
      "-----------------------------------------------\n",
      "MSE for 4000x4000: 200.0538169296742\n",
      "MAE for 4000x4000: 10.7546851146875\n",
      "-----------------------------------------------\n",
      "MSE for 5000x5000: inf\n",
      "MAE for 5000x5000: 1.3309593474437368e+301\n",
      "-----------------------------------------------\n"
     ]
    },
    {
     "name": "stderr",
     "output_type": "stream",
     "text": [
      "C:\\Users\\derek\\anaconda3\\lib\\site-packages\\sklearn\\metrics\\_regression.py:338: RuntimeWarning: overflow encountered in square\n",
      "  output_errors = np.average((y_true - y_pred) ** 2, axis=0,\n"
     ]
    }
   ],
   "source": [
    "X_mats = []\n",
    "Xr_mats = []\n",
    "for i in range(1000, 6000, 1000):\n",
    "    m = i\n",
    "    n = i\n",
    "\n",
    "    X = np.random.normal(size=(m, n), scale=10)\n",
    "    mat_rows = sample_mat_row(X, int(0.2*m))\n",
    "    mat_cols = sample_mat(X, int(0.2*m))\n",
    "\n",
    "    # SVD\n",
    "    U, S, V = np.linalg.svd(X)\n",
    "    Ur, Sr, Vr = np.linalg.svd(mat_rows)\n",
    "    Uc, Sc, Vc = np.linalg.svd(mat_cols)\n",
    "\n",
    "    for j in range(2, 32, 2): \n",
    "        S_s = S[0:j]  # zero out the rest\n",
    "        Xr_s = (U @ np.diag(S_s) @ V)\n",
    "        Xr = (U @ np.diag(S) @ V)\n",
    "\n",
    "    # SVD -\n",
    "    # Ours - Uc @ predicted sigma @ Vr\n",
    "    # Poormans Uc @ (sampled sigma) @ (Vr)\n",
    "\n",
    "    # reconstruction error | X - Xr |\n",
    "    # plot with X as percent sampled from U and V\n",
    "    # 10 times and make error bar for each percent error (lineplot errorbar)\n",
    "    # plot another with x as percent of sigma sampled (0 everything after a certain percent)\n",
    "\n",
    "    X_mats.append(X)\n",
    "    Xr_mats.append(Xr_s)\n",
    "    print(f'MSE for {m}x{n}: {mean_squared_error(Xr, X)}')\n",
    "    print(f'MAE for {m}x{n}: {mean_absolute_error(Xr, X)}')\n",
    "    print('-----------------------------------------------')\n"
   ]
  },
  {
   "cell_type": "code",
   "execution_count": 6,
   "metadata": {},
   "outputs": [
    {
     "name": "stderr",
     "output_type": "stream",
     "text": [
      "<ipython-input-6-9eb644c792a0>:1: VisibleDeprecationWarning: Creating an ndarray from ragged nested sequences (which is a list-or-tuple of lists-or-tuples-or ndarrays with different lengths or shapes) is deprecated. If you meant to do this, you must specify 'dtype=object' when creating the ndarray.\n",
      "  npX = np.array(X_mats)\n",
      "<ipython-input-6-9eb644c792a0>:2: VisibleDeprecationWarning: Creating an ndarray from ragged nested sequences (which is a list-or-tuple of lists-or-tuples-or ndarrays with different lengths or shapes) is deprecated. If you meant to do this, you must specify 'dtype=object' when creating the ndarray.\n",
      "  npXR = np.array(Xr_mats)\n"
     ]
    }
   ],
   "source": [
    "npX = np.array(X_mats)\n",
    "npXR = np.array(Xr_mats)\n",
    "# can't get it to save as a 3x1000x1000 and only as a 3xobjects"
   ]
  },
  {
   "cell_type": "code",
   "execution_count": 8,
   "metadata": {},
   "outputs": [
    {
     "data": {
      "text/plain": [
       "[<matplotlib.lines.Line2D at 0x22ac0c42160>]"
      ]
     },
     "execution_count": 8,
     "metadata": {},
     "output_type": "execute_result"
    },
    {
     "data": {
      "image/png": "[encoded data removed]",
      "text/plain": [
       "<Figure size 720x720 with 3 Axes>"
      ]
     },
     "metadata": {
      "needs_background": "light"
     },
     "output_type": "display_data"
    }
   ],
   "source": [
    "fig, axs = plt.subplots(nrows=3, ncols=1, figsize=(10,10))\n",
    "\n",
    "#for mat in range(3):\n",
    "axs[0].plot(np.sort(npX[0].flatten()), label='X')\n",
    "axs[0].plot(np.sort(npXR[0].flatten()), label='Xr')\n",
    "axs[0].legend()\n",
    "\n",
    "axs[1].plot(np.sort(npX[0].flatten())[0:1000], label='X')\n",
    "axs[1].plot(np.sort(npXR[0].flatten())[0:1000], label='Xr')\n",
    "axs[1].legend()\n",
    "\n",
    "#axs[2].plot(np.sort(npX[0].flatten())[999900:100000], label='X')\n",
    "#axs[2].plot(np.sort(npXR[0].flatten())[999900:100000], label='Xr')\n",
    "#axs[2].legend()\n",
    "\n",
    "axs[2].plot(np.sort(npX[0].flatten()-npXR[0].flatten()))"
   ]
  },
  {
   "cell_type": "code",
   "execution_count": null,
   "metadata": {},
   "outputs": [],
   "source": []
  },
  {
   "cell_type": "code",
   "execution_count": null,
   "metadata": {},
   "outputs": [],
   "source": [
    "# only end, theres huge spike that the true X doesnt reach"
   ]
  },
  {
   "cell_type": "code",
   "execution_count": null,
   "metadata": {},
   "outputs": [],
   "source": [
    "# how to train the model for each 1000-1000 - 5000 for sigma (we prob dont have to since we're just testing whether\n",
    "# poor mans svd works)\n",
    "# Are the matrices of both poor-mans and regular svd constructed to become the same size? (both same nxn)\n",
    "# can't get it to save as a 3x1000x1000 and only as a 3xobjects\n",
    "\n",
    "# can neural nets take in different sizes than they were trained with"
   ]
  }
 ],
 "metadata": {
  "interpreter": {
   "hash": "0f9908abc8474d2f73cca78b3aba51555171f5abb829aaeeec4246efdc40138f"
  },
  "kernelspec": {
   "display_name": "Python 3.8.8 64-bit ('base': conda)",
   "language": "python",
   "name": "python3"
  },
  "language_info": {
   "codemirror_mode": {
    "name": "ipython",
    "version": 3
   },
   "file_extension": ".py",
   "mimetype": "text/x-python",
   "name": "python",
   "nbconvert_exporter": "python",
   "pygments_lexer": "ipython3",
   "version": "3.8.8"
  },
  "orig_nbformat": 4
 },
 "nbformat": 4,
 "nbformat_minor": 2
}
